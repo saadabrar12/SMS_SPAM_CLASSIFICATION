{
 "cells": [
  {
   "cell_type": "markdown",
   "metadata": {},
   "source": [
    "# Analysis and Classification of the SMS Spam Collection Data Set \n",
    "\n",
    "### Dataset Description\n",
    "The SMS Spam Collection Dataset[2] corpus is a collection of 425 SMS spam messages was manually extracted from the Grumbletext[3] Web site. This is a UK forum in which cell phone users make public claims about SMS spam messages, most of them without reporting the very spam message received. Following that, a subset of 3,375 SMS randomly chosen ham messages of the NUS SMS Corpus (NSC), which is a dataset of about 10,000 legitimate messages collected for research at the Department of Computer Science at the National University of Singapore. In addition to that, a list of 450 SMS ham messages collected from Caroline Tag's PhD Thesis available at [1]. Furthermore, it incorporates the SMS Spam Corpus v.0.1 Big. It has 1,002 SMS ham messages and 322 spam messages and it is public available at [4]. This corpus has been used for many research purposes.\n",
    "\n",
    "## Problem Statement\n",
    "As part of Assignment #5 of CSC_520 we have to able to build an instance of a classification model to correctly identify spam messages when presented as a text message. \n",
    "\n",
    "## Working procedure\n",
    "### Setting up the directory, file and dataset paths\n",
    "We have to set the working directory to sms spam dataset folder."
   ]
  },
  {
   "cell_type": "code",
   "execution_count": 18,
   "metadata": {
    "scrolled": true
   },
   "outputs": [
    {
     "name": "stdout",
     "output_type": "stream",
     "text": [
      "C:\\Users\\saad6\\Downloads\\CSC-520\\Assignment5\\smsspamcollection\n"
     ]
    }
   ],
   "source": [
    "import os\n",
    "os.chdir('C:/Users/saad6/Downloads/CSC-520/Assignment5/smsspamcollection') \n",
    "path = os.getcwd()\n",
    "print(path)"
   ]
  },
  {
   "cell_type": "markdown",
   "metadata": {},
   "source": [
    "### Getting a feel of the data that needs to be processed\n",
    "We look at the kind of data or unstructured text that we are handling."
   ]
  },
  {
   "cell_type": "code",
   "execution_count": 19,
   "metadata": {},
   "outputs": [
    {
     "name": "stdout",
     "output_type": "stream",
     "text": [
      "['ham\\tGo until jurong point, crazy.. Available only in bugis n great world la e buffet... Cine there got amore wat...'\n",
      " 'ham\\tOk lar... Joking wif u oni...'\n",
      " \"spam\\tFree entry in 2 a wkly comp to win FA Cup final tkts 21st May 2005. Text FA to 87121 to receive entry question(std txt rate)T&C's apply 08452810075over18's\"\n",
      " ... 'ham\\tPity, * was in mood for that. So...any other suggestions?'\n",
      " \"ham\\tThe guy did some bitching but I acted like i'd be interested in buying something else next week and he gave it to us for free\"\n",
      " 'ham\\tRofl. Its true to its name']\n"
     ]
    }
   ],
   "source": [
    "import numpy as np\n",
    "records=np.array([line.rstrip() for line in open(\"SMSSPAMCOLLECTION\")])\n",
    "print(records)\n",
    "#print(len(records))"
   ]
  },
  {
   "cell_type": "markdown",
   "metadata": {},
   "source": [
    "### Reading the data\n",
    "- Converting the CSV file into a table data structure named \"records\""
   ]
  },
  {
   "cell_type": "code",
   "execution_count": 20,
   "metadata": {},
   "outputs": [
    {
     "data": {
      "text/html": [
       "<div>\n",
       "<style scoped>\n",
       "    .dataframe tbody tr th:only-of-type {\n",
       "        vertical-align: middle;\n",
       "    }\n",
       "\n",
       "    .dataframe tbody tr th {\n",
       "        vertical-align: top;\n",
       "    }\n",
       "\n",
       "    .dataframe thead th {\n",
       "        text-align: right;\n",
       "    }\n",
       "</style>\n",
       "<table border=\"1\" class=\"dataframe\">\n",
       "  <thead>\n",
       "    <tr style=\"text-align: right;\">\n",
       "      <th></th>\n",
       "      <th>label</th>\n",
       "      <th>text</th>\n",
       "    </tr>\n",
       "  </thead>\n",
       "  <tbody>\n",
       "    <tr>\n",
       "      <th>0</th>\n",
       "      <td>ham</td>\n",
       "      <td>Go until jurong point, crazy.. Available only ...</td>\n",
       "    </tr>\n",
       "    <tr>\n",
       "      <th>1</th>\n",
       "      <td>ham</td>\n",
       "      <td>Ok lar... Joking wif u oni...</td>\n",
       "    </tr>\n",
       "    <tr>\n",
       "      <th>2</th>\n",
       "      <td>spam</td>\n",
       "      <td>Free entry in 2 a wkly comp to win FA Cup fina...</td>\n",
       "    </tr>\n",
       "    <tr>\n",
       "      <th>3</th>\n",
       "      <td>ham</td>\n",
       "      <td>U dun say so early hor... U c already then say...</td>\n",
       "    </tr>\n",
       "    <tr>\n",
       "      <th>4</th>\n",
       "      <td>ham</td>\n",
       "      <td>Nah I don't think he goes to usf, he lives aro...</td>\n",
       "    </tr>\n",
       "    <tr>\n",
       "      <th>...</th>\n",
       "      <td>...</td>\n",
       "      <td>...</td>\n",
       "    </tr>\n",
       "    <tr>\n",
       "      <th>5567</th>\n",
       "      <td>spam</td>\n",
       "      <td>This is the 2nd time we have tried 2 contact u...</td>\n",
       "    </tr>\n",
       "    <tr>\n",
       "      <th>5568</th>\n",
       "      <td>ham</td>\n",
       "      <td>Will ü b going to esplanade fr home?</td>\n",
       "    </tr>\n",
       "    <tr>\n",
       "      <th>5569</th>\n",
       "      <td>ham</td>\n",
       "      <td>Pity, * was in mood for that. So...any other s...</td>\n",
       "    </tr>\n",
       "    <tr>\n",
       "      <th>5570</th>\n",
       "      <td>ham</td>\n",
       "      <td>The guy did some bitching but I acted like i'd...</td>\n",
       "    </tr>\n",
       "    <tr>\n",
       "      <th>5571</th>\n",
       "      <td>ham</td>\n",
       "      <td>Rofl. Its true to its name</td>\n",
       "    </tr>\n",
       "  </tbody>\n",
       "</table>\n",
       "<p>5572 rows × 2 columns</p>\n",
       "</div>"
      ],
      "text/plain": [
       "     label                                               text\n",
       "0      ham  Go until jurong point, crazy.. Available only ...\n",
       "1      ham                      Ok lar... Joking wif u oni...\n",
       "2     spam  Free entry in 2 a wkly comp to win FA Cup fina...\n",
       "3      ham  U dun say so early hor... U c already then say...\n",
       "4      ham  Nah I don't think he goes to usf, he lives aro...\n",
       "...    ...                                                ...\n",
       "5567  spam  This is the 2nd time we have tried 2 contact u...\n",
       "5568   ham               Will ü b going to esplanade fr home?\n",
       "5569   ham  Pity, * was in mood for that. So...any other s...\n",
       "5570   ham  The guy did some bitching but I acted like i'd...\n",
       "5571   ham                         Rofl. Its true to its name\n",
       "\n",
       "[5572 rows x 2 columns]"
      ]
     },
     "execution_count": 20,
     "metadata": {},
     "output_type": "execute_result"
    }
   ],
   "source": [
    "import pandas as pd\n",
    "records = pd.read_csv(\"SMSSpamCollection\", sep='\\t',names=['label','text'])\n",
    "records"
   ]
  },
  {
   "cell_type": "markdown",
   "metadata": {},
   "source": [
    "- Maintaining two different arrays for label and text named \"array_label\" and \"array_text\" respectively."
   ]
  },
  {
   "cell_type": "code",
   "execution_count": 21,
   "metadata": {},
   "outputs": [
    {
     "data": {
      "text/plain": [
       "5572"
      ]
     },
     "execution_count": 21,
     "metadata": {},
     "output_type": "execute_result"
    }
   ],
   "source": [
    "array_label= records['label'].values\n",
    "array_text=records['text'].values\n",
    "len(array_text)"
   ]
  },
  {
   "cell_type": "code",
   "execution_count": 22,
   "metadata": {},
   "outputs": [
    {
     "data": {
      "text/plain": [
       "array([111,  29,  49, ...,  57, 125,  26], dtype=int64)"
      ]
     },
     "execution_count": 22,
     "metadata": {},
     "output_type": "execute_result"
    }
   ],
   "source": [
    "length_ham = records[records['label'].values == 'ham'].text.apply(len).values\n",
    "length_ham"
   ]
  },
  {
   "cell_type": "code",
   "execution_count": 23,
   "metadata": {},
   "outputs": [
    {
     "data": {
      "text/plain": [
       "array([155, 147, 157, 154, 136, 155, 149, 155, 158, 172, 120, 161, 152,\n",
       "       159,  78, 137, 158, 158, 152, 144, 156, 156, 125, 162, 155, 159,\n",
       "       124, 145, 152, 155, 156, 147,  72, 142, 137, 157, 145, 150, 154,\n",
       "       121, 159, 133, 155, 159, 146, 138, 133, 157, 128, 158, 111, 150,\n",
       "       148, 165, 129, 157, 149, 155, 156,  49, 106, 159, 162, 136, 157,\n",
       "       162, 175, 161, 159, 146, 160, 169, 147, 146,  89, 144, 158, 111,\n",
       "       146,  96, 159,  69,  99, 149, 126, 142, 148,  86, 135, 140, 130,\n",
       "       148, 143, 136,  97,  59,  93, 153, 158, 111, 155, 160,  37, 161,\n",
       "       145, 101, 148, 131, 102,  65,  95, 159, 149,  99, 129, 157, 160,\n",
       "       152, 162, 141, 148, 133, 156, 161, 147, 152, 149, 155, 160, 153,\n",
       "       158, 144, 160, 149, 134, 154, 156, 136, 132, 143, 127, 158, 162,\n",
       "       155, 139, 158, 148, 132, 137,  41, 156, 141, 147, 150, 158, 156,\n",
       "       101, 104, 135, 152, 143, 134, 156,  90, 152, 146, 141, 159,  69,\n",
       "       156, 153, 156, 104, 120, 158, 115, 139, 155, 159, 154,  49, 145,\n",
       "       148,  50, 143, 145, 159, 122,  81, 120, 146,  66, 163, 155, 138,\n",
       "       125, 154, 101, 151, 153, 159, 143, 163, 143, 150,  71, 140, 141,\n",
       "       159, 153,  81, 152, 158, 160, 130, 154, 122, 121, 157, 158, 150,\n",
       "       156, 145, 149, 136, 145, 143, 153, 132,  71, 146, 161, 155, 160,\n",
       "       122, 146, 159, 157,  73, 172, 114, 125, 148, 145, 138, 223, 158,\n",
       "       155, 142, 162,  33, 154, 162, 154, 132, 155, 151, 161, 158, 154,\n",
       "       115,  84, 155, 132, 155, 152, 163, 156, 143, 158, 144, 141, 159,\n",
       "       160, 156,  74, 131, 103, 153, 129, 143, 118, 157, 155, 152, 158,\n",
       "       162, 149, 161,  30, 155, 159, 144, 159, 154, 157, 161, 159, 169,\n",
       "       137, 154, 161, 147, 156, 152, 158, 159, 154, 156, 181, 159, 156,\n",
       "       155, 160, 121,  33, 159,  48, 183, 160, 145, 160, 151, 157, 114,\n",
       "       166, 160, 119,  82, 149, 161, 158, 157, 109, 161, 152, 158, 152,\n",
       "       157, 152, 121, 159, 116, 167, 149, 158,  99, 101, 156,  70, 160,\n",
       "       153, 133, 130, 153, 136, 154, 173, 106, 153, 146, 130, 165, 162,\n",
       "       130, 136, 157, 153, 158,  24, 156, 160, 118, 135, 151, 165, 158,\n",
       "       155, 141, 124, 123, 126,  33, 158, 160, 136, 152, 157, 160, 110,\n",
       "       157, 151,  52, 152, 140, 152, 163, 139, 136, 148,  48, 100, 119,\n",
       "       147, 135, 159, 106, 147, 122, 134, 110, 162, 110, 152, 152, 141,\n",
       "       147, 121, 140, 112, 143, 139, 156, 144, 145, 160, 151, 101, 114,\n",
       "       158, 153, 146, 158, 157, 136, 142, 156, 173,  50, 139, 105, 157,\n",
       "       134,  40, 146, 140,  78, 149, 160,  81, 126, 152, 157, 136, 157,\n",
       "       152,  64, 160, 157, 160, 106, 139, 153, 153, 101, 156, 148, 140,\n",
       "       161, 156, 149, 157, 152, 161, 156,  68, 130, 133, 144, 149, 142,\n",
       "       155, 157, 114, 166, 156, 152, 155, 155, 150, 177, 157, 114, 197,\n",
       "       156,  13, 147, 101, 109, 158, 137, 158,  86, 155, 156, 158, 158,\n",
       "       118, 161, 161, 151, 138, 109, 106,  96, 151, 150, 153, 120, 128,\n",
       "       145,  86, 157, 100, 114, 137, 134, 146, 160,  18,  63, 137,  95,\n",
       "       143, 158, 161, 147,  73, 158, 158, 147,  45, 156, 154, 158, 149,\n",
       "       140, 106, 114, 154, 148, 135, 166, 132, 122, 141, 157, 152, 146,\n",
       "       160, 159, 144, 154, 112, 157, 143, 149, 158, 155, 147, 157,  72,\n",
       "       157, 159, 135, 105,  74, 156, 152, 136, 163, 157,  74, 155,  81,\n",
       "       138, 160, 134, 161, 145, 163, 126, 135, 132, 145, 144, 156,  72,\n",
       "       132,  81, 137, 159, 149,  47,  65, 123, 158,  73,  51, 161, 162,\n",
       "       160, 143, 156, 142, 115, 159, 152, 126, 158, 158, 155, 144, 108,\n",
       "       137, 165, 143, 155, 156, 136, 152, 160, 154, 132, 153, 143, 154,\n",
       "       106, 160, 155, 143, 138,  89, 146, 135, 158, 153,  69, 151, 152,\n",
       "       135, 135, 159,  95, 137, 147, 148, 132, 145, 134, 181, 155, 153,\n",
       "       159, 124, 118, 137, 140, 153, 159, 135, 138, 175, 166, 154, 154,\n",
       "       146, 133, 126, 149, 135, 109, 159, 145, 131, 160, 135, 130, 158,\n",
       "       149, 153,  47, 159, 156,  44, 162, 162, 155, 160, 119, 142, 156,\n",
       "       150, 151, 162, 160, 136, 146, 158, 155, 126, 145, 143, 155, 154,\n",
       "       155, 156, 156, 112, 106, 155, 156, 139,  90, 159,  42, 106, 162,\n",
       "        70, 108, 157, 147,  83, 155, 142, 148, 145, 160, 158, 148, 152,\n",
       "       134,  90, 158, 160, 147, 160], dtype=int64)"
      ]
     },
     "execution_count": 23,
     "metadata": {},
     "output_type": "execute_result"
    }
   ],
   "source": [
    "length_spam = records[records['label'].values == 'spam'].text.apply(len).values\n",
    "length_spam"
   ]
  },
  {
   "cell_type": "markdown",
   "metadata": {},
   "source": [
    "### Exploratory Data Analysis\n",
    "At this stage we explore the dataset in terms of statistic that we have at hand. We report the statistics of the distribution of the \"Ham\" labelled text messages and the \"Spam\" labelled text messages"
   ]
  },
  {
   "cell_type": "code",
   "execution_count": 24,
   "metadata": {},
   "outputs": [
    {
     "data": {
      "image/png": "[encoded data removed]",
      "text/plain": [
       "<Figure size 432x288 with 1 Axes>"
      ]
     },
     "metadata": {
      "needs_background": "light"
     },
     "output_type": "display_data"
    }
   ],
   "source": [
    "import matplotlib.pyplot as plt\n",
    "\n",
    "plt.hist(length_ham, bins=100)\n",
    "plt.xlabel('Lengths of the texts with labels \\'Ham\\'')\n",
    "plt.ylabel('Number of texts')\n",
    "plt.title('The distribution of lengths of texts with \"Ham\" label')\n",
    "\n",
    "plt.show()\n"
   ]
  },
  {
   "cell_type": "code",
   "execution_count": 25,
   "metadata": {},
   "outputs": [
    {
     "data": {
      "image/png": "[encoded data removed]",
      "text/plain": [
       "<Figure size 432x288 with 1 Axes>"
      ]
     },
     "metadata": {
      "needs_background": "light"
     },
     "output_type": "display_data"
    }
   ],
   "source": [
    "import matplotlib.pyplot as plt\n",
    "\n",
    "plt.hist(length_spam, bins=100)\n",
    "plt.xlabel('Lengths of the texts with labels \\'Spam\\'')\n",
    "plt.ylabel('Number of texts')\n",
    "plt.title('The distribution of lengths of texts with \"Spam\" label')\n",
    "\n",
    "plt.show()"
   ]
  },
  {
   "cell_type": "markdown",
   "metadata": {},
   "source": [
    "So, as we visualize the data, we see a clear distinction among the \"Ham\" labelled data instances and the \"Spam\" labelled data instances. To point it out, it can be seen that the \"Ham\" labelled data instances has text message length that peaks at around 100 units whereas, \"Spam\" labelled data instances that peaks at around 150 units. "
   ]
  },
  {
   "cell_type": "markdown",
   "metadata": {},
   "source": [
    "### Preprocessing the raw text data\n",
    "Owing to the fact that the data was highly unstructured and unclean, there was an attempt made to clean and structure the data as much as possible so as to be able to extract the important features as efficiently as possible.\n",
    "- **Converting the text into lower case**: As case will not affect the decision of whether we are classifying the data instances as spam or ham, we convert the raw text data into lower case. "
   ]
  },
  {
   "cell_type": "code",
   "execution_count": 26,
   "metadata": {},
   "outputs": [
    {
     "data": {
      "text/plain": [
       "'go until jurong point, crazy.. available only in bugis n great world la e buffet... cine there got amore wat...'"
      ]
     },
     "execution_count": 26,
     "metadata": {},
     "output_type": "execute_result"
    }
   ],
   "source": [
    "array_text=[elems.lower() for elems in array_text]\n",
    "array_text[0]\n",
    "\n",
    "\n"
   ]
  },
  {
   "cell_type": "markdown",
   "metadata": {},
   "source": [
    "- **Removing the punctuations, numbers, websites** - In addition to converting the raw text data into lower case, the features of the text data that were irrelevant to the cause of the classification were filtered out. For example, all the punctuations, numbers and website information were removed so that it does obstruct the model in figuring out the correct features."
   ]
  },
  {
   "cell_type": "code",
   "execution_count": 27,
   "metadata": {},
   "outputs": [
    {
     "data": {
      "text/plain": [
       "'go until jurong point crazy available only in bugis n great world la e buffet cine there got amore wat'"
      ]
     },
     "execution_count": 27,
     "metadata": {},
     "output_type": "execute_result"
    }
   ],
   "source": [
    "import string\n",
    "\n",
    "array_text = [''.join(char for char in elems if char not in string.digits) for elems in array_text]\n",
    "array_text = [''.join(char for char in elems if char not in string.punctuation) for elems in array_text]\n",
    "array_text = [ elems.replace(\"www\",\"\") for elems in array_text]\n",
    "array_text = [elems.replace(\"http\",\"\") for elems in array_text]\n",
    "array_text[0]\n"
   ]
  },
  {
   "cell_type": "markdown",
   "metadata": {},
   "source": [
    "  - **Tokenizing and stemming the text** - To process the text data further, we tokenize the text data so that we can identify the distinct words that are occuring inside the data instances. In addition to that, stemming of the word was a particularly important thing to do in this case owing to the fact that words like 'looking' and 'look' were interpreted as two different words, whereas, essentially they yield the same meaning and value to our semantic feature extraction pipeline. Due to that, the Porter's Algorithm was used to morphologically normalize the words, so that features could be efficiently eked out. We have used the *nltk* library that contains the implementations of tokenizing words and stemming the words by Porters's Algorithm."
   ]
  },
  {
   "cell_type": "code",
   "execution_count": 28,
   "metadata": {},
   "outputs": [
    {
     "data": {
      "text/plain": [
       "'go until jurong point crazi avail onli in bugi n great world la e buffet cine there got amor wat'"
      ]
     },
     "execution_count": 28,
     "metadata": {},
     "output_type": "execute_result"
    }
   ],
   "source": [
    "#import nltk\n",
    "#nltk.download('punkt')\n",
    "from nltk.tokenize import word_tokenize\n",
    "from nltk.stem import PorterStemmer\n",
    "\n",
    "\n",
    "ps = PorterStemmer()\n",
    "\n",
    "array_text = [word_tokenize(text) for text in array_text]\n",
    "array_text = [' '.join(ps.stem(word) for word in text) for text in array_text]\n",
    "#array_text = [word_tokenize(text) for text in array_text]\n",
    "#text = ' '.join([ps.stem(word) for word in tokens])\n",
    "    #print(text)\n",
    "array_text[0]"
   ]
  },
  {
   "cell_type": "markdown",
   "metadata": {},
   "source": [
    "### Feature Extraction and Engineering\n",
    "\n",
    "The fundamental problem while working with language processing is that the classical machine learning algorithms cannot work on the raw text directly. Owing to that fact, raw unstructured text needs to go through some sort of feature engineering and selection to carve out the latent features that is embedded in the data. The most generalized way of converting the raw text data to perf is *quantitative vectorization* of the  Some of the most common feature engineering technique in the case of raw unstructured data is the Bag Of Words technique(BOW) and term frequency-inverse document frequency(TF-IDF). I have decided to go on and use the TF-IDF text vectorizer in this case owing to several disadvantages that BOW model has. For example, TF-IDF extracts out important information embedded in the text data that might not occur frequently due to the introduction of a term weights in the vector space model. \n",
    "\n",
    "To elaborate on the procedureas to which TF-IDF selects the data, we need to figure out the meanings for Term Frequency(TF) and Inverse Document Frequency(IDF). Term frequency refers to the frequency at which a term appears in the entire document, considering a corpus that is a collection of documents. On the other hand, inverse term frequency represents the frequency of the term across the documents in the corpus. In simple terms, it puts emphasis on the words which occur in very few documents, or attaches a higher IDF score to it. Considering the following, we intend to eke out the features out of the preprocessed text documents. Therefore, what we set out to do is to rank the features based on term-frequency across the corpus. \n",
    "\n",
    "To implement the feature extraction pipeline, I made use of the TfidfVectorizer module of the scikit-learn package that converted the preprocessed text into a sparse matrix of features. We have used a cap for the value of the number of features at 5000. This generates a matrix of 5572 by 5000 given that we could extract 5000 features from the text dataset.  "
   ]
  },
  {
   "cell_type": "code",
   "execution_count": 29,
   "metadata": {},
   "outputs": [
    {
     "data": {
      "text/plain": [
       "<5572x5000 sparse matrix of type '<class 'numpy.float64'>'\n",
       "\twith 40206 stored elements in Compressed Sparse Row format>"
      ]
     },
     "execution_count": 29,
     "metadata": {},
     "output_type": "execute_result"
    }
   ],
   "source": [
    "from sklearn.feature_extraction.text import TfidfVectorizer\n",
    "\n",
    "vc = TfidfVectorizer(analyzer='word',stop_words = 'english',max_features = 5000)\n",
    "array_text = vc.fit_transform(array_text)\n",
    "array_text"
   ]
  },
  {
   "cell_type": "markdown",
   "metadata": {},
   "source": [
    "### Evaluation Method\n",
    "Given the concern that with less training data, the model will not be able to capture the variances and nuances of the dataset.\n",
    "We have decided to split the dataset in a 80-20 train-test ratio using the rule of thumb defined by the Pareto Principle[8] which assumes that, for many events, roughly 80% of the effects come from 20% of the causes. \n",
    "\n",
    "In addition to that, we calculate the *accuracy*, *precision*, *recall* and *F-1 scores* to evaluate the model on the 20% of the total dataset. As because, false positives and false negatives are of equal significance in this particular dataset, both recall and precision are equally important and that is why we further calculate the F-1 score, the harmonic mean of recall and precision. In addition to that, reporting the accuracy of the model is highly important in this particular context as because it gives us an insight of the number of data instances the model got wrong."
   ]
  },
  {
   "cell_type": "code",
   "execution_count": 30,
   "metadata": {},
   "outputs": [],
   "source": [
    "from sklearn.model_selection import train_test_split\n",
    "xTrain, xTest, yTrain, yTest = train_test_split(array_text, array_label, test_size = 0.2, random_state = 1)"
   ]
  },
  {
   "cell_type": "markdown",
   "metadata": {},
   "source": [
    "### Classification Model\n",
    "We have used *Decision Tree classifier* due to the simplicity and ease of interpretation.  \n",
    "\n",
    "Decision tree uses the tree representation to solve the problem in which each leaf node corresponds to a class label and attributes are represented on the internal node of the tree. So, a decision tree as a whole builds up a decision tree from training instances using several splitting criteria of the nodes such as Entropy, Gini Index, Misclassification Rate,etc and hence predicts classes for novel testing examples. In our case, we have made use of entropy as the splitting criteria as because, the splitting criterias such as entropy, Gini Index , Misclassification rates perform almost the same in a range of datasets[7]. In addition to that, we used a height cut off for our decision tree, to avoid overfitting.\n",
    "\n",
    "The decision tree is often considered a white box type of ML algorithm, due to using a form of internal decision-making. It implies that the extracted knowledge from a data set can be easily represented in a readable form. In addition to that, it requires its users minimal effort for data preparation and analysis. Given the fact that Decision Trees are non-parametric, it is immune to the distributions and does not depend on probability distribution assumptions. Furthermore. decision trees are excellent while handling high dimensional data[6]. So, given the high dimensionaility of our extracted features from our dataset, and given the non-parametric approach of decision trees in handling data, I have chosen decision trees to perform the classification based on the features. In addition to that, as a decision tree does not require normalization and scaling of data it fits well in this context."
   ]
  },
  {
   "cell_type": "code",
   "execution_count": 31,
   "metadata": {},
   "outputs": [
    {
     "name": "stdout",
     "output_type": "stream",
     "text": [
      "['ham' 'ham' 'ham' ... 'ham' 'ham' 'ham']\n",
      "['ham' 'ham' 'ham' ... 'ham' 'ham' 'ham']\n",
      "Accuracy:  0.9623318385650225\n",
      "Precision: 0.900763\n",
      "Recall: 0.802721\n",
      "F1 score: 0.848921\n"
     ]
    }
   ],
   "source": [
    "from sklearn.tree import DecisionTreeClassifier\n",
    "from sklearn import metrics\n",
    "clf = DecisionTreeClassifier(criterion=\"entropy\",max_depth=20)\n",
    "clf = clf.fit(xTrain,yTrain)\n",
    "yPred = clf.predict(xTest)\n",
    "print(yPred)\n",
    "print(yTest)\n",
    "print(\"Accuracy: \", metrics.accuracy_score(yTest,yPred))\n",
    "\n",
    "from sklearn.preprocessing import label_binarize\n",
    "binarized_yTest = label_binarize(yTest,classes=['ham','spam'])\n",
    "binarized_yPred = label_binarize(yPred,classes=['ham','spam'])\n",
    "# precision tp / (tp + fp)\n",
    "precision = metrics.precision_score(binarized_yTest, binarized_yPred)\n",
    "print('Precision: %f' % precision)\n",
    "# recall: tp / (tp + fn)\n",
    "recall = metrics.recall_score(binarized_yTest, binarized_yPred)\n",
    "print('Recall: %f' % recall)\n",
    "# f1: 2 tp / (2 tp + fp + fn)\n",
    "f1 = metrics.f1_score(binarized_yTest, binarized_yPred)\n",
    "print('F1 score: %f' % f1)"
   ]
  },
  {
   "cell_type": "markdown",
   "metadata": {},
   "source": [
    "### Problems Faced and Discussion\n",
    "1. Choosing the value for max features cap-off was a challenge for this particular task. I have tried several other values for choosing an appropriate value for the number of features. Experimenting by changing the number of features selected by 500, I was able to select an appropriate value for number of features of 5000 which yielded a particularly high accuracy. \n",
    "2.  As I have chosen Decision Trees as our classifier model which is particularly well known for being vulnerable to the problem of overfitting, I have decided to prune the tree and limit the height of the tree to 20, to avoid the risk of overfitting of the data. I have based my decision of pruning the tree at length = 20, because the accuracy does not significantly increase as I increase the depth further.\n",
    "3. In the text preprocessing step of our pipeline, tokenization alone was not enough to clean the data efficiently. it is because words such as \"come\", \"coming\" were not considered to have the same semantic meaning. Therefore, I have decided to use stemming on the word tokens so that the words with same semantic meaning can be segregated appropriately.\n",
    "4. In addition to that, removing redundant terms such as numbers, websites that are not of any particular value in extracting the features from the dataset are dropped from the text.\n",
    " "
   ]
  },
  {
   "cell_type": "markdown",
   "metadata": {},
   "source": [
    "#### References\n",
    "[1] https://etheses.bham.ac.uk/id/eprint/253/1/Tagg09PhD.pdf <br />\n",
    "[2] http://archive.ics.uci.edu/ml/datasets/SMS+Spam+Collection <br />\n",
    "[3] http://www.grumbletext.co.uk/ <br />\n",
    "[4] http://www.esp.uem.es/jmgomez/smsspamcorpus/ <br />\n",
    "[5] Willett, Peter. \"The Porter stemming algorithm: then and now.\" Program (2006). <br />\n",
    "[6] Lin, Guosheng, et al. \"Fast supervised hashing with decision trees for high-dimensional data.\" Proceedings of the IEEE Conference on Computer Vision and Pattern Recognition. 2014. <br />\n",
    "[7] Raileanu, Laura Elena, and Kilian Stoffel. \"Theoretical comparison between the gini index and\n",
    "information gain criteria.\" Annals of Mathematics and Artificial Intelligence 41.1 (2004): 77-93 <br />\n",
    "[8] https://en.wikipedia.org/wiki/Pareto_principle <br />\n"
   ]
  }
 ],
 "metadata": {
  "kernelspec": {
   "display_name": "Python 3",
   "language": "python",
   "name": "python3"
  },
  "language_info": {
   "codemirror_mode": {
    "name": "ipython",
    "version": 3
   },
   "file_extension": ".py",
   "mimetype": "text/x-python",
   "name": "python",
   "nbconvert_exporter": "python",
   "pygments_lexer": "ipython3",
   "version": "3.7.6"
  }
 },
 "nbformat": 4,
 "nbformat_minor": 4
}
